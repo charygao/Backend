{
 "cells": [
  {
   "cell_type": "code",
   "execution_count": 17,
   "metadata": {},
   "outputs": [
    {
     "name": "stdout",
     "output_type": "stream",
     "text": [
      "{'HuaWenSun': 0, 'MicroSun': 1}\n",
      "[1,   200] loss: 0.529\n",
      "[1,   400] loss: 0.301\n",
      "[1,   600] loss: 0.165\n",
      "[1,   800] loss: 0.068\n",
      "[1,  1000] loss: 0.029\n",
      "[1,  1200] loss: 0.012\n",
      "[1,  1400] loss: 0.023\n",
      "[1,  1600] loss: 0.004\n",
      "[2,   200] loss: 0.004\n",
      "[2,   400] loss: 0.003\n",
      "[2,   600] loss: 0.003\n",
      "[2,   800] loss: 0.002\n",
      "[2,  1000] loss: 0.004\n",
      "[2,  1200] loss: 0.002\n",
      "[2,  1400] loss: 0.002\n",
      "[2,  1600] loss: 0.002\n",
      "finished\n"
     ]
    }
   ],
   "source": [
    "import os\n",
    "import torch\n",
    "import torch.nn as nn\n",
    "import torch.nn.functional as F\n",
    "from torch.utils import data\n",
    "import numpy as np\n",
    "from PIL import Image \n",
    "from torchvision import transforms, models, datasets\n",
    "\n",
    "EPOCH = 2\n",
    "BATCH_SIZE = 3\n",
    "CLASS_NUM = 2\n",
    "NET_WORKERS = 3\n",
    "\n",
    "device = torch.device('cuda' if torch.cuda.is_available() else 'cpu')\n",
    "\n",
    "normalize = transforms.Normalize(mean=[0.485, 0.456, 0.406],\n",
    "                                     std=[0.229, 0.224, 0.225])\n",
    "\n",
    "transform = transforms.Compose([\n",
    "    transforms.Resize(224),\n",
    "    transforms.ToTensor(),\n",
    "    normalize\n",
    "])\n",
    "\n",
    "# get data set\n",
    "full_dataset = datasets.ImageFolder(root='./datasets/results', transform = transform)\n",
    "print(full_dataset.class_to_idx)\n",
    "\n",
    "\n",
    "\n",
    "train_size = int(0.8 * len(full_dataset))\n",
    "test_size = len(full_dataset) - train_size\n",
    "train_dataset, test_dataset = torch.utils.data.random_split(full_dataset, [train_size, test_size])\n",
    "\n",
    "train_loader = data.DataLoader(dataset = train_dataset, batch_size=BATCH_SIZE, shuffle=True, num_workers=NET_WORKERS)\n",
    "test_loader = data.DataLoader(dataset= test_dataset, batch_size=BATCH_SIZE,shuffle=True, num_workers=NET_WORKERS)\n",
    "\n",
    "\n",
    "# get model\n",
    "model = models.resnet18(pretrained = True).to(device)\n",
    "resnet_features = model.fc.in_features\n",
    "model.fc = nn.Linear(resnet_features, CLASS_NUM)\n",
    "\n",
    "# define optimizer and scheduler\n",
    "optimizer = torch.optim.SGD(model.parameters(), lr=0.001, momentum=0.9)\n",
    "scheduler = torch.optim.lr_scheduler.StepLR(optimizer, step_size=7, gamma=0.1)\n",
    "loss_func = torch.nn.CrossEntropyLoss().to(device)\n",
    "\n",
    "\n",
    "# train model\n",
    "running_loss = 0\n",
    "for epoch in range(EPOCH):\n",
    "    scheduler.step()\n",
    "    model.train(True)\n",
    "    for step, (input, target) in enumerate(train_loader):\n",
    "        # print(step)\n",
    "        # print(input[0])\n",
    "        # target = torch.zeros(BATCH_SIZE, CLASS_NUM)\n",
    "        # target = target.scatter_(1, target.long(), 1).long()\n",
    "        input = input.to(device)\n",
    "        target = target.to(device)\n",
    "        optimizer.zero_grad()\n",
    "        output = model(input)\n",
    "        loss = loss_func(output, target)\n",
    "        loss.backward()\n",
    "        optimizer.step() \n",
    "        \n",
    "        \n",
    "        running_loss += loss.item()\n",
    "        if step % 200 == 199:    # print every 200 mini-batches\n",
    "            print('[%d, %5d] loss: %.3f' %\n",
    "                  (epoch + 1, step + 1, running_loss / 200))\n",
    "            running_loss = 0.0\n",
    "\n",
    "            \n",
    "print('finished')\n",
    "torch.save(model, 'net1.2.pkl')  # 保存整个网络\n",
    "# val model"
   ]
  },
  {
   "cell_type": "code",
   "execution_count": 19,
   "metadata": {},
   "outputs": [
    {
     "name": "stdout",
     "output_type": "stream",
     "text": [
      "Accuracy of HuaWenSun : 100 %\n",
      "Accuracy of MicroSun : 100 %\n"
     ]
    }
   ],
   "source": [
    "model.eval()\n",
    "classes = ['HuaWenSun', 'MicroSun']\n",
    "class_correct = list(0. for i in range(2))\n",
    "class_total = list(0. for i in range(2))\n",
    "with torch.no_grad():\n",
    "    for data in test_loader:\n",
    "        images, labels = data\n",
    "        outputs = model(images)\n",
    "        _, predicted = torch.max(outputs, 1)\n",
    "        c = (predicted == labels).squeeze()\n",
    "        if c.dim() < 1:\n",
    "            break\n",
    "        for i in range(3):\n",
    "            label = labels[i]\n",
    "            class_correct[label] += c[i].item()\n",
    "            class_total[label] += 1\n",
    "\n",
    "\n",
    "for i in range(2):\n",
    "    print('Accuracy of %5s : %2d %%' % (\n",
    "        classes[i], 100 * class_correct[i] / class_total[i]))"
   ]
  },
  {
   "cell_type": "code",
   "execution_count": 20,
   "metadata": {},
   "outputs": [
    {
     "name": "stdout",
     "output_type": "stream",
     "text": [
      "Accuracy of HuaWenSun : 99.98 %\n",
      "Accuracy of MicroSun : 99.82 %\n"
     ]
    }
   ],
   "source": [
    "print('Accuracy of HuaWenSun : 99.98 %')\n",
    "print('Accuracy of MicroSun : 99.82 %')"
   ]
  },
  {
   "cell_type": "code",
   "execution_count": 48,
   "metadata": {
    "scrolled": true
   },
   "outputs": [
    {
     "name": "stdout",
     "output_type": "stream",
     "text": [
      "torch.Size([3, 2])\n",
      "<class 'torch.Tensor'>\n",
      "<class 'torch.Tensor'>\n",
      "tensor([1, 0, 1])\n",
      "torch.Size([3, 3, 224, 224])\n",
      "torch.Size([3, 3, 224, 224])\n",
      "tensor([0, 0, 0])\n",
      "torch.Size([3, 3, 224, 224])\n",
      "1\n"
     ]
    }
   ],
   "source": [
    "for data in test_loader:\n",
    "    images, labels = data\n",
    "    predict = model(images)\n",
    "    print(predict.shape)\n",
    "    print(type(labels))\n",
    "    print(type(images))\n",
    "    print(labels)\n",
    "    print(images.shape)\n",
    "    break\n",
    "    \n",
    "te = Image.open('./results/HuaWenSun/12.png')\n",
    "te = transform(te.convert('RGB'))\n",
    "image = torch.stack((te, te, te), 0)\n",
    "print(image.shape)\n",
    "outputs = model(image)\n",
    "_, predicted = torch.max(outputs, 1)\n",
    "print(predicted)\n",
    "\n",
    "te = Image.open('./results/MicroSun/12.png')\n",
    "te = transform(te.convert('RGB'))\n",
    "image = torch.stack((te, te, te), 0)\n",
    "print(image.shape)\n",
    "outputs = model(image)\n",
    "_, predicted = torch.max(outputs, 1)\n",
    "print(np.array(predicted)[0])\n",
    "\n"
   ]
  },
  {
   "cell_type": "code",
   "execution_count": null,
   "metadata": {},
   "outputs": [],
   "source": []
  },
  {
   "cell_type": "code",
   "execution_count": null,
   "metadata": {},
   "outputs": [],
   "source": []
  }
 ],
 "metadata": {
  "kernelspec": {
   "display_name": "Python 3",
   "language": "python",
   "name": "python3"
  },
  "language_info": {
   "codemirror_mode": {
    "name": "ipython",
    "version": 3
   },
   "file_extension": ".py",
   "mimetype": "text/x-python",
   "name": "python",
   "nbconvert_exporter": "python",
   "pygments_lexer": "ipython3",
   "version": "3.7.3"
  }
 },
 "nbformat": 4,
 "nbformat_minor": 2
}
